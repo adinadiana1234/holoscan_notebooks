{
 "cells": [
  {
   "cell_type": "markdown",
   "id": "d30ed895-1715-4077-84d8-de4dc266a197",
   "metadata": {},
   "source": [
    "# Hello World Example using Holoscan SDK\n",
    "\n",
    "This notebook demonstrates how to run the `hello_world.py` example from the Holoscan SDK in the container environment.\n",
    "\n",
    "- The Python script is located in: `/opt/nvidia/holoscan/examples/hello_world/python/hello_world.py`\n",
    "- Make sure the environment is properly set up (e.g., Python paths are configured, and the container is running with the necessary Holoscan libraries).\n",
    "\n",
    "## Steps\n",
    "1. Ensure you have access to the required files and libraries in the container.\n",
    "2. Run the Python script using the Holoscan SDK.\n"
   ]
  },
  {
   "cell_type": "code",
   "execution_count": 2,
   "id": "1a7ad135-c475-4dd3-a796-c6cc0bf742a9",
   "metadata": {},
   "outputs": [],
   "source": [
    "# Setup environment for Holoscan Python SDK (optional if already configured in the container)\n",
    "!export PYTHONPATH=/opt/nvidia/holoscan/python/lib\n"
   ]
  },
  {
   "cell_type": "code",
   "execution_count": null,
   "id": "b31127e5-02be-4508-95b0-91d3db67e21c",
   "metadata": {},
   "outputs": [],
   "source": [
    "# Run the Hello World example using Holoscan Python SDK\n",
    "!python3 /opt/nvidia/holoscan/examples/hello_world/python/hello_world.py"
   ]
  }
 ],
 "metadata": {
  "kernelspec": {
   "display_name": "Python 3 (ipykernel)",
   "language": "python",
   "name": "python3"
  },
  "language_info": {
   "codemirror_mode": {
    "name": "ipython",
    "version": 3
   },
   "file_extension": ".py",
   "mimetype": "text/x-python",
   "name": "python",
   "nbconvert_exporter": "python",
   "pygments_lexer": "ipython3",
   "version": "3.10.12"
  }
 },
 "nbformat": 4,
 "nbformat_minor": 5
}
